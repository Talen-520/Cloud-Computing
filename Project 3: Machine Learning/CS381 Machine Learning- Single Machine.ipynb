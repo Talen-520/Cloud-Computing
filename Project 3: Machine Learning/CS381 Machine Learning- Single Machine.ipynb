{
 "cells": [
  {
   "cell_type": "markdown",
   "id": "16cf1b2a",
   "metadata": {},
   "source": [
    "# Import libraies"
   ]
  },
  {
   "cell_type": "code",
   "execution_count": 50,
   "id": "809e076e",
   "metadata": {},
   "outputs": [],
   "source": [
    "import torch, torchvision\n",
    "from torch import nn\n",
    "from torch import optim #stochastic gradient descent (SGD) as the training algorithm\n",
    "from torchvision.transforms import ToTensor\n",
    "import torch.nn.functional as F\n",
    "import matplotlib.pyplot as plt\n",
    "import copy\n",
    "\n",
    "import requests\n",
    "from PIL import Image\n",
    "from io import BytesIO\n",
    "\n",
    "\n",
    "from sklearn.metrics import confusion_matrix\n",
    "import pandas as pd\n",
    "import numpy as np"
   ]
  },
  {
   "cell_type": "code",
   "execution_count": 51,
   "id": "b7e3df28",
   "metadata": {},
   "outputs": [],
   "source": [
    "numb_batch = 64"
   ]
  },
  {
   "cell_type": "markdown",
   "id": "42123bc3",
   "metadata": {},
   "source": [
    "# Getting data"
   ]
  },
  {
   "cell_type": "code",
   "execution_count": 52,
   "id": "067f35c7",
   "metadata": {},
   "outputs": [],
   "source": [
    "T = torchvision.transforms.Compose([\n",
    "    torchvision.transforms.ToTensor()\n",
    "])\n",
    "train_data = torchvision.datasets.MNIST('mnist_data', train=True, download=True, transform=T)\n",
    "val_data = torchvision.datasets.MNIST('mnist_data', train=False, download=True, transform=T)\n",
    "\n",
    "train_dl = torch.utils.data.DataLoader(train_data, batch_size = numb_batch)\n",
    "val_dl = torch.utils.data.DataLoader(val_data, batch_size = numb_batch)"
   ]
  },
  {
   "cell_type": "code",
   "execution_count": 53,
   "id": "75c29a0c",
   "metadata": {},
   "outputs": [
    {
     "data": {
      "text/plain": [
       "<matplotlib.image.AxesImage at 0x7f238f2e7d60>"
      ]
     },
     "execution_count": 53,
     "metadata": {},
     "output_type": "execute_result"
    },
    {
     "data": {
      "image/png": "[encoded data removed]",
      "text/plain": [
       "<Figure size 640x480 with 1 Axes>"
      ]
     },
     "metadata": {},
     "output_type": "display_data"
    }
   ],
   "source": [
    "plt.imshow(train_data[0][0][0], cmap=\"gray\")"
   ]
  },
  {
   "cell_type": "markdown",
   "id": "e126b3c1",
   "metadata": {},
   "source": [
    "# Create the Model"
   ]
  },
  {
   "cell_type": "code",
   "execution_count": 54,
   "id": "930a1177",
   "metadata": {},
   "outputs": [],
   "source": [
    "def create_lenet():\n",
    "    model = nn.Sequential(\n",
    "        nn.Conv2d(1, 6, 5, padding=2),\n",
    "        nn.ReLU(),\n",
    "        nn.AvgPool2d(2, stride=2),\n",
    "        nn.Conv2d(6, 16, 5, padding=0),\n",
    "        nn.ReLU(),\n",
    "        nn.AvgPool2d(2, stride=2),\n",
    "        nn.Flatten(),\n",
    "        nn.Linear(400, 120),\n",
    "        nn.ReLU(),\n",
    "        nn.Linear(120, 84),\n",
    "        nn.ReLU(),\n",
    "        nn.Linear(84, 10)\n",
    "    )\n",
    "    return model"
   ]
  },
  {
   "cell_type": "markdown",
   "id": "a2473211",
   "metadata": {},
   "source": [
    "# Validate the Model"
   ]
  },
  {
   "cell_type": "code",
   "execution_count": 55,
   "id": "716356c5",
   "metadata": {},
   "outputs": [],
   "source": [
    "def validate(model, data):\n",
    "    correct = 0\n",
    "    for i, (images, labels) in enumerate(data):\n",
    "        images = images.to(\"cpu\")  # Move images to CPU\n",
    "        x = model(images)\n",
    "        value, pred = torch.max(x, 1)\n",
    "        correct += (pred == labels).sum().item()\n",
    "    accuracy = 100 * correct / len(data.dataset)\n",
    "    return accuracy\n"
   ]
  },
  {
   "cell_type": "markdown",
   "id": "e339e66e",
   "metadata": {},
   "source": [
    "# Training function"
   ]
  },
  {
   "cell_type": "code",
   "execution_count": 56,
   "id": "bddb5968",
   "metadata": {},
   "outputs": [],
   "source": [
    "import torch.optim as optim\n",
    "\n",
    "def train(numb_epoch=3, lr=1e-3, device=\"cpu\"):\n",
    "    accuracies = []\n",
    "    cnn = create_lenet().to(device)\n",
    "    cec = nn.CrossEntropyLoss()\n",
    "    optimizer = optim.SGD(cnn.parameters(), lr=lr)#stochastic gradient descent (SGD) as the training algorithm\n",
    "    max_accuracy = 0\n",
    "    for epoch in range(numb_epoch):\n",
    "        for i, (images, labels) in enumerate(train_dl):\n",
    "            images = images.to(device)\n",
    "            labels = labels.to(device)\n",
    "            optimizer.zero_grad()\n",
    "            pred = cnn(images)\n",
    "            loss = cec(pred, labels)\n",
    "            loss.backward()\n",
    "            optimizer.step()\n",
    "        accuracy = float(validate(cnn, val_dl))\n",
    "        accuracies.append(accuracy)\n",
    "        if accuracy > max_accuracy:\n",
    "            best_model = copy.deepcopy(cnn)\n",
    "            max_accuracy = accuracy\n",
    "            print(\"Saving Best Model with Accuracy:\", accuracy)\n",
    "        print('Epoch:', epoch+1, \"Accuracy:\", accuracy, '%')\n",
    "    plt.plot(accuracies)\n",
    "    return best_model\n",
    "\n",
    "\n",
    "#lenet = train(40, device=\"cpu\")\n"
   ]
  },
  {
   "cell_type": "markdown",
   "id": "a43dc4fa",
   "metadata": {},
   "source": [
    "# GPU Availability"
   ]
  },
  {
   "cell_type": "code",
   "execution_count": 57,
   "id": "ad9e1ef6",
   "metadata": {},
   "outputs": [
    {
     "name": "stdout",
     "output_type": "stream",
     "text": [
      "No Cuda Available\n"
     ]
    }
   ],
   "source": [
    "if torch.cuda.is_available():\n",
    "    device = torch.device(\"cuda:0\")\n",
    "else:\n",
    "    device = torch.device(\"cpu\")\n",
    "    print(\"No Cuda Available\")"
   ]
  },
  {
   "cell_type": "code",
   "execution_count": 60,
   "id": "63a54ec1",
   "metadata": {},
   "outputs": [
    {
     "data": {
      "text/plain": [
       "device(type='cpu')"
      ]
     },
     "execution_count": 60,
     "metadata": {},
     "output_type": "execute_result"
    }
   ],
   "source": [
    "device"
   ]
  },
  {
   "cell_type": "markdown",
   "id": "92145e65",
   "metadata": {},
   "source": [
    "# Traning the Model"
   ]
  },
  {
   "cell_type": "code",
   "execution_count": 61,
   "id": "a89f3e8a",
   "metadata": {},
   "outputs": [
    {
     "name": "stdout",
     "output_type": "stream",
     "text": [
      "Saving Best Model with Accuracy: 8.91\n",
      "Epoch: 1 Accuracy: 8.91 %\n",
      "Saving Best Model with Accuracy: 10.29\n",
      "Epoch: 2 Accuracy: 10.29 %\n",
      "Epoch: 3 Accuracy: 10.28 %\n",
      "Epoch: 4 Accuracy: 10.28 %\n",
      "Epoch: 5 Accuracy: 10.28 %\n",
      "Saving Best Model with Accuracy: 19.44\n",
      "Epoch: 6 Accuracy: 19.44 %\n",
      "Epoch: 7 Accuracy: 11.46 %\n",
      "Epoch: 8 Accuracy: 11.35 %\n",
      "Epoch: 9 Accuracy: 11.35 %\n",
      "Epoch: 10 Accuracy: 11.35 %\n",
      "Epoch: 11 Accuracy: 11.35 %\n",
      "Epoch: 12 Accuracy: 11.35 %\n",
      "Epoch: 13 Accuracy: 11.35 %\n",
      "Epoch: 14 Accuracy: 11.35 %\n",
      "Epoch: 15 Accuracy: 11.35 %\n",
      "Epoch: 16 Accuracy: 11.36 %\n",
      "Epoch: 17 Accuracy: 12.2 %\n",
      "Epoch: 18 Accuracy: 17.69 %\n",
      "Saving Best Model with Accuracy: 23.59\n",
      "Epoch: 19 Accuracy: 23.59 %\n",
      "Saving Best Model with Accuracy: 27.43\n",
      "Epoch: 20 Accuracy: 27.43 %\n",
      "Saving Best Model with Accuracy: 29.82\n",
      "Epoch: 21 Accuracy: 29.82 %\n",
      "Saving Best Model with Accuracy: 34.45\n",
      "Epoch: 22 Accuracy: 34.45 %\n",
      "Saving Best Model with Accuracy: 52.13\n",
      "Epoch: 23 Accuracy: 52.13 %\n",
      "Saving Best Model with Accuracy: 75.58\n",
      "Epoch: 24 Accuracy: 75.58 %\n",
      "Saving Best Model with Accuracy: 81.56\n",
      "Epoch: 25 Accuracy: 81.56 %\n",
      "Saving Best Model with Accuracy: 84.0\n",
      "Epoch: 26 Accuracy: 84.0 %\n",
      "Saving Best Model with Accuracy: 85.66\n",
      "Epoch: 27 Accuracy: 85.66 %\n",
      "Saving Best Model with Accuracy: 86.52\n",
      "Epoch: 28 Accuracy: 86.52 %\n",
      "Saving Best Model with Accuracy: 87.13\n",
      "Epoch: 29 Accuracy: 87.13 %\n",
      "Saving Best Model with Accuracy: 87.6\n",
      "Epoch: 30 Accuracy: 87.6 %\n",
      "Saving Best Model with Accuracy: 88.08\n",
      "Epoch: 31 Accuracy: 88.08 %\n",
      "Saving Best Model with Accuracy: 88.56\n",
      "Epoch: 32 Accuracy: 88.56 %\n",
      "Saving Best Model with Accuracy: 89.04\n",
      "Epoch: 33 Accuracy: 89.04 %\n",
      "Saving Best Model with Accuracy: 89.37\n",
      "Epoch: 34 Accuracy: 89.37 %\n",
      "Saving Best Model with Accuracy: 89.68\n",
      "Epoch: 35 Accuracy: 89.68 %\n",
      "Saving Best Model with Accuracy: 89.96\n",
      "Epoch: 36 Accuracy: 89.96 %\n",
      "Saving Best Model with Accuracy: 90.43\n",
      "Epoch: 37 Accuracy: 90.43 %\n",
      "Saving Best Model with Accuracy: 90.76\n",
      "Epoch: 38 Accuracy: 90.76 %\n",
      "Saving Best Model with Accuracy: 91.05\n",
      "Epoch: 39 Accuracy: 91.05 %\n",
      "Saving Best Model with Accuracy: 91.42\n",
      "Epoch: 40 Accuracy: 91.42 %\n"
     ]
    },
    {
     "data": {
      "image/png": "[encoded data removed]",
      "text/plain": [
       "<Figure size 640x480 with 1 Axes>"
      ]
     },
     "metadata": {},
     "output_type": "display_data"
    }
   ],
   "source": [
    "lenet = train(40, device=\"cpu\")"
   ]
  },
  {
   "cell_type": "code",
   "execution_count": 82,
   "id": "c3eedc08",
   "metadata": {},
   "outputs": [],
   "source": [
    "torch.save(lenet.state_dict(), \"lenet.pth\")\n"
   ]
  },
  {
   "cell_type": "code",
   "execution_count": 83,
   "id": "2a5318f7",
   "metadata": {},
   "outputs": [],
   "source": [
    "def predict_dl(model, data):\n",
    "    y_pred = []\n",
    "    y_true = []\n",
    "    for i, (images, labels) in enumerate(data):\n",
    "        #images = images.cuda()\n",
    "        x = model(images)\n",
    "        value, pred = torch.max(x, 1)\n",
    "        #pred = pred.data.cpu()\n",
    "        pred = pred.data#remove cpu, the .cpu() method is unnecessary when you want to work with the data on the CPU.\n",
    "        y_pred.extend(list(pred.numpy()))\n",
    "        y_true.extend(list(labels.numpy()))\n",
    "    return np.array(y_pred), np.array(y_true)"
   ]
  },
  {
   "cell_type": "code",
   "execution_count": 84,
   "id": "41c5127c",
   "metadata": {},
   "outputs": [],
   "source": [
    "y_pred, y_true = predict_dl(lenet, val_dl)\n"
   ]
  },
  {
   "cell_type": "code",
   "execution_count": 85,
   "id": "0d07c346",
   "metadata": {},
   "outputs": [
    {
     "data": {
      "text/html": [
       "<div>\n",
       "<style scoped>\n",
       "    .dataframe tbody tr th:only-of-type {\n",
       "        vertical-align: middle;\n",
       "    }\n",
       "\n",
       "    .dataframe tbody tr th {\n",
       "        vertical-align: top;\n",
       "    }\n",
       "\n",
       "    .dataframe thead th {\n",
       "        text-align: right;\n",
       "    }\n",
       "</style>\n",
       "<table border=\"1\" class=\"dataframe\">\n",
       "  <thead>\n",
       "    <tr style=\"text-align: right;\">\n",
       "      <th></th>\n",
       "      <th>0</th>\n",
       "      <th>1</th>\n",
       "      <th>2</th>\n",
       "      <th>3</th>\n",
       "      <th>4</th>\n",
       "      <th>5</th>\n",
       "      <th>6</th>\n",
       "      <th>7</th>\n",
       "      <th>8</th>\n",
       "      <th>9</th>\n",
       "    </tr>\n",
       "  </thead>\n",
       "  <tbody>\n",
       "    <tr>\n",
       "      <th>0</th>\n",
       "      <td>957</td>\n",
       "      <td>0</td>\n",
       "      <td>0</td>\n",
       "      <td>3</td>\n",
       "      <td>0</td>\n",
       "      <td>7</td>\n",
       "      <td>8</td>\n",
       "      <td>1</td>\n",
       "      <td>4</td>\n",
       "      <td>0</td>\n",
       "    </tr>\n",
       "    <tr>\n",
       "      <th>1</th>\n",
       "      <td>0</td>\n",
       "      <td>1117</td>\n",
       "      <td>3</td>\n",
       "      <td>2</td>\n",
       "      <td>0</td>\n",
       "      <td>2</td>\n",
       "      <td>2</td>\n",
       "      <td>1</td>\n",
       "      <td>8</td>\n",
       "      <td>0</td>\n",
       "    </tr>\n",
       "    <tr>\n",
       "      <th>2</th>\n",
       "      <td>11</td>\n",
       "      <td>6</td>\n",
       "      <td>911</td>\n",
       "      <td>17</td>\n",
       "      <td>16</td>\n",
       "      <td>6</td>\n",
       "      <td>19</td>\n",
       "      <td>15</td>\n",
       "      <td>27</td>\n",
       "      <td>4</td>\n",
       "    </tr>\n",
       "    <tr>\n",
       "      <th>3</th>\n",
       "      <td>3</td>\n",
       "      <td>6</td>\n",
       "      <td>12</td>\n",
       "      <td>918</td>\n",
       "      <td>0</td>\n",
       "      <td>29</td>\n",
       "      <td>2</td>\n",
       "      <td>11</td>\n",
       "      <td>20</td>\n",
       "      <td>9</td>\n",
       "    </tr>\n",
       "    <tr>\n",
       "      <th>4</th>\n",
       "      <td>2</td>\n",
       "      <td>4</td>\n",
       "      <td>6</td>\n",
       "      <td>1</td>\n",
       "      <td>860</td>\n",
       "      <td>2</td>\n",
       "      <td>17</td>\n",
       "      <td>0</td>\n",
       "      <td>5</td>\n",
       "      <td>85</td>\n",
       "    </tr>\n",
       "    <tr>\n",
       "      <th>5</th>\n",
       "      <td>11</td>\n",
       "      <td>3</td>\n",
       "      <td>3</td>\n",
       "      <td>31</td>\n",
       "      <td>12</td>\n",
       "      <td>800</td>\n",
       "      <td>8</td>\n",
       "      <td>2</td>\n",
       "      <td>16</td>\n",
       "      <td>6</td>\n",
       "    </tr>\n",
       "    <tr>\n",
       "      <th>6</th>\n",
       "      <td>14</td>\n",
       "      <td>5</td>\n",
       "      <td>3</td>\n",
       "      <td>4</td>\n",
       "      <td>10</td>\n",
       "      <td>21</td>\n",
       "      <td>898</td>\n",
       "      <td>1</td>\n",
       "      <td>2</td>\n",
       "      <td>0</td>\n",
       "    </tr>\n",
       "    <tr>\n",
       "      <th>7</th>\n",
       "      <td>1</td>\n",
       "      <td>12</td>\n",
       "      <td>23</td>\n",
       "      <td>8</td>\n",
       "      <td>6</td>\n",
       "      <td>1</td>\n",
       "      <td>1</td>\n",
       "      <td>910</td>\n",
       "      <td>3</td>\n",
       "      <td>63</td>\n",
       "    </tr>\n",
       "    <tr>\n",
       "      <th>8</th>\n",
       "      <td>11</td>\n",
       "      <td>7</td>\n",
       "      <td>1</td>\n",
       "      <td>43</td>\n",
       "      <td>9</td>\n",
       "      <td>24</td>\n",
       "      <td>9</td>\n",
       "      <td>10</td>\n",
       "      <td>848</td>\n",
       "      <td>12</td>\n",
       "    </tr>\n",
       "    <tr>\n",
       "      <th>9</th>\n",
       "      <td>10</td>\n",
       "      <td>8</td>\n",
       "      <td>3</td>\n",
       "      <td>10</td>\n",
       "      <td>31</td>\n",
       "      <td>8</td>\n",
       "      <td>1</td>\n",
       "      <td>10</td>\n",
       "      <td>5</td>\n",
       "      <td>923</td>\n",
       "    </tr>\n",
       "  </tbody>\n",
       "</table>\n",
       "</div>"
      ],
      "text/plain": [
       "     0     1    2    3    4    5    6    7    8    9\n",
       "0  957     0    0    3    0    7    8    1    4    0\n",
       "1    0  1117    3    2    0    2    2    1    8    0\n",
       "2   11     6  911   17   16    6   19   15   27    4\n",
       "3    3     6   12  918    0   29    2   11   20    9\n",
       "4    2     4    6    1  860    2   17    0    5   85\n",
       "5   11     3    3   31   12  800    8    2   16    6\n",
       "6   14     5    3    4   10   21  898    1    2    0\n",
       "7    1    12   23    8    6    1    1  910    3   63\n",
       "8   11     7    1   43    9   24    9   10  848   12\n",
       "9   10     8    3   10   31    8    1   10    5  923"
      ]
     },
     "execution_count": 85,
     "metadata": {},
     "output_type": "execute_result"
    }
   ],
   "source": [
    "pd.DataFrame(confusion_matrix(y_true, y_pred, labels=np.arange(0,10)))\n"
   ]
  },
  {
   "cell_type": "markdown",
   "id": "ee0a4b07",
   "metadata": {},
   "source": [
    "# Define Inference Function"
   ]
  },
  {
   "cell_type": "code",
   "execution_count": 86,
   "id": "95b5d1b9",
   "metadata": {},
   "outputs": [],
   "source": [
    "def inference(path, model, device):\n",
    "    r = requests.get(path)\n",
    "    with BytesIO(r.content) as f:\n",
    "        img = Image.open(f).convert(mode=\"L\")\n",
    "        img = img.resize((28, 28))\n",
    "        x = (255 - np.expand_dims(np.array(img), -1))/255.\n",
    "    with torch.no_grad():\n",
    "        pred = model(torch.unsqueeze(T(x), axis=0).float().to(device))\n",
    "        return F.softmax(pred, dim=-1).cpu().numpy()"
   ]
  },
  {
   "cell_type": "code",
   "execution_count": 90,
   "id": "3d7f7e44",
   "metadata": {},
   "outputs": [],
   "source": [
    "path = \"https://c8.alamy.com/comp/HXBRW0/2-red-handwritten-digits-over-white-background-HXBRW0.jpg\"\n",
    "r = requests.get(path)\n",
    "with BytesIO(r.content) as f:\n",
    "    img = Image.open(f).convert(mode=\"L\")\n",
    "    img = img.resize((28, 28))\n",
    "x = (255 - np.expand_dims(np.array(img), -1))/255."
   ]
  },
  {
   "cell_type": "markdown",
   "id": "5ca5d40e",
   "metadata": {},
   "source": [
    "# Show Image"
   ]
  },
  {
   "cell_type": "code",
   "execution_count": 91,
   "id": "6abcfa8f",
   "metadata": {},
   "outputs": [
    {
     "data": {
      "text/plain": [
       "<matplotlib.image.AxesImage at 0x7f238ef5b370>"
      ]
     },
     "execution_count": 91,
     "metadata": {},
     "output_type": "execute_result"
    },
    {
     "data": {
      "image/png": "[encoded data removed]",
      "text/plain": [
       "<Figure size 640x480 with 1 Axes>"
      ]
     },
     "metadata": {},
     "output_type": "display_data"
    }
   ],
   "source": [
    "plt.imshow(x.squeeze(-1), cmap=\"gray\")\n"
   ]
  },
  {
   "cell_type": "code",
   "execution_count": 93,
   "id": "d3bf3401",
   "metadata": {},
   "outputs": [
    {
     "name": "stdout",
     "output_type": "stream",
     "text": [
      "Predicted: 2, Prob: 96.12510204315186 %\n"
     ]
    }
   ],
   "source": [
    "pred = inference(path, lenet, device=device)\n",
    "pred_idx = np.argmax(pred)\n",
    "print(f\"Predicted: {pred_idx}, Prob: {pred[0][pred_idx]*100} %\")"
   ]
  },
  {
   "cell_type": "code",
   "execution_count": 94,
   "id": "f322c5ad",
   "metadata": {},
   "outputs": [
    {
     "data": {
      "text/plain": [
       "array([[7.1509106e-08, 1.4465910e-04, 9.6125102e-01, 3.8020354e-02,\n",
       "        2.9692618e-10, 4.3022774e-05, 7.1807740e-08, 8.5248928e-08,\n",
       "        5.4073357e-04, 6.6690662e-09]], dtype=float32)"
      ]
     },
     "execution_count": 94,
     "metadata": {},
     "output_type": "execute_result"
    }
   ],
   "source": [
    "pred"
   ]
  },
  {
   "cell_type": "code",
   "execution_count": null,
   "id": "5c1551d1",
   "metadata": {},
   "outputs": [],
   "source": []
  }
 ],
 "metadata": {
  "kernelspec": {
   "display_name": "conda_pytorch_p39",
   "language": "python",
   "name": "conda_pytorch_p39"
  },
  "language_info": {
   "codemirror_mode": {
    "name": "ipython",
    "version": 3
   },
   "file_extension": ".py",
   "mimetype": "text/x-python",
   "name": "python",
   "nbconvert_exporter": "python",
   "pygments_lexer": "ipython3",
   "version": "3.9.15"
  }
 },
 "nbformat": 4,
 "nbformat_minor": 5
}
